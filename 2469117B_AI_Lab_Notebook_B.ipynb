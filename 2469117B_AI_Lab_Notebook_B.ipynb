{
 "cells": [
  {
   "cell_type": "markdown",
   "id": "3361bef5-7928-42ee-91a0-9b0fc3b5d748",
   "metadata": {
    "tags": []
   },
   "source": [
    "# 2469117b Portfolio Notebook for AI for the Arts B\n",
    "<a href=\"https://github.com/AlexanderBroad/AI_B\">My Github repository</a>"
   ]
  },
  {
   "cell_type": "markdown",
   "id": "d7954aab-6b0f-4f3e-8278-5dac22c9bc75",
   "metadata": {},
   "source": [
    "## Task 1.2 Quick Quiz"
   ]
  },
  {
   "cell_type": "code",
   "execution_count": null,
   "id": "44f59c60-fc47-4298-a692-47675d263447",
   "metadata": {
    "tags": []
   },
   "outputs": [],
   "source": [
    "## Yunhyong Kim fictional data:\n",
    "years_employed = 15\n",
    "days_ill = 100\n",
    "average_grade = 16.25\n",
    "height = 163.5\n",
    "last_name = \"kim\"\n",
    "first_name = \"yunhyong\"\n",
    "middle_name = \"pikachu\"\n",
    "likes_garlic = False\n",
    "hates_insects = True\n",
    "is_religious = True\n",
    "\n",
    "## The 'years_employed' and 'days_ill' variables are integer values.\n",
    "## The 'average_grade' and 'height' variables are float values.\n",
    "## The 'last_name', 'first_name', and 'middle_name' variables are string values.\n",
    "## The 'likes_garlic', 'hates_insects', and 'is_religious' variables are boolean values.\n",
    "\n",
    "print(type(years_employed))\n",
    "print(type(days_ill))\n",
    "print(type(average_grade))\n",
    "print(type(height))\n",
    "print(type(last_name))\n",
    "print(type(first_name))\n",
    "print(type(middle_name))\n",
    "print(type(likes_garlic))\n",
    "print(type(hates_insects))\n",
    "print(type(is_religious))"
   ]
  },
  {
   "cell_type": "code",
   "execution_count": null,
   "id": "0c61f8cb-d2df-4649-a055-95a2e54f8f02",
   "metadata": {
    "tags": []
   },
   "outputs": [],
   "source": [
    "## Adding string values together:\n",
    "full_name = first_name + \" \" + middle_name + \" \" + last_name\n",
    "print(full_name)\n",
    " \n",
    "## Adding integer and float value types together returns a float value:\n",
    "test1 = height + days_ill + average_grade\n",
    "print(test1)\n",
    "\n",
    "## Adding float and boolean values together ignores the boolean value:\n",
    "test2 = test1 + likes_garlic\n",
    "print(test2)\n",
    "\n",
    "## Adding string and boolean values together returns an error:\n",
    "test3 = full_name + likes_garlic\n",
    "print(test3)"
   ]
  },
  {
   "cell_type": "code",
   "execution_count": null,
   "id": "6d708043-17e6-419a-8616-82f0c974aa7f",
   "metadata": {
    "tags": []
   },
   "outputs": [],
   "source": [
    "def hello(message):\n",
    "    if len(message) > 10:\n",
    "        print(message)\n",
    "    else:\n",
    "        print('The message is too short!')\n",
    "\n",
    "message = 'Hello'\n",
    "hello(message)\n",
    "\n",
    "## Changing the message\n",
    "message = 'This message is long enough!'\n",
    "hello(message)"
   ]
  },
  {
   "cell_type": "markdown",
   "id": "0845fbdc-e038-4712-95f5-eb2fb7b41551",
   "metadata": {},
   "source": [
    "## Task 1.3 Group Challenge (easier)"
   ]
  },
  {
   "cell_type": "code",
   "execution_count": null,
   "id": "3cbd2d1e-cf4b-4eb4-b0e1-88f09cec2bd7",
   "metadata": {
    "tags": []
   },
   "outputs": [],
   "source": [
    "## Defining a function 'list_task' that takes 'yunhyong_data' as an argument:\n",
    "def list_task(yunhyung_data):\n",
    "    ## Checks that the list is at least length 10\n",
    "    if len(yunhyong_data) > 9:\n",
    "        ## Prints the list, excluding the first and last item:\n",
    "        print(yunhyong_data[1:9])\n",
    "    else:\n",
    "        print('This list has fewer than 10 items!')\n",
    "\n",
    "## Defining the 'yunhyong_data' list:\n",
    "yunhyong_data = [years_employed, days_ill, average_grade, height, last_name, first_name, middle_name, likes_garlic, hates_insects, is_religious]\n",
    "\n",
    "## Calling the function:\n",
    "list_task(yunhyong_data)\n",
    "\n",
    "## Removing an item from 'yunhyong_data' to check that the function works properly:\n",
    "yunhyong_data.remove(days_ill)\n",
    "\n",
    "## Calling the function again:\n",
    "list_task(yunhyong_data)"
   ]
  },
  {
   "cell_type": "markdown",
   "id": "06278526-b547-4ba1-b22a-91c65186e696",
   "metadata": {
    "tags": []
   },
   "source": [
    "## Task 1.4 Optional Group Challenge (harder)"
   ]
  },
  {
   "cell_type": "code",
   "execution_count": 1,
   "id": "4b4af9e9-897b-4e28-bb28-77d024261963",
   "metadata": {
    "collapsed": true,
    "tags": []
   },
   "outputs": [
    {
     "name": "stdout",
     "output_type": "stream",
     "text": [
      "Requirement already satisfied: tensorflow in c:\\users\\2469117b\\.conda\\envs\\ai_for_the_arts_environment\\lib\\site-packages (2.10.0)\n",
      "Requirement already satisfied: absl-py>=1.0.0 in c:\\users\\2469117b\\.conda\\envs\\ai_for_the_arts_environment\\lib\\site-packages (from tensorflow) (2.0.0)\n",
      "Requirement already satisfied: astunparse>=1.6.0 in c:\\users\\2469117b\\.conda\\envs\\ai_for_the_arts_environment\\lib\\site-packages (from tensorflow) (1.6.3)\n",
      "Requirement already satisfied: flatbuffers>=2.0 in c:\\users\\2469117b\\.conda\\envs\\ai_for_the_arts_environment\\lib\\site-packages (from tensorflow) (23.5.26)\n",
      "Requirement already satisfied: gast<=0.4.0,>=0.2.1 in c:\\users\\2469117b\\.conda\\envs\\ai_for_the_arts_environment\\lib\\site-packages (from tensorflow) (0.4.0)\n",
      "Requirement already satisfied: google-pasta>=0.1.1 in c:\\users\\2469117b\\.conda\\envs\\ai_for_the_arts_environment\\lib\\site-packages (from tensorflow) (0.2.0)\n",
      "Requirement already satisfied: h5py>=2.9.0 in c:\\users\\2469117b\\.conda\\envs\\ai_for_the_arts_environment\\lib\\site-packages (from tensorflow) (3.7.0)\n",
      "Requirement already satisfied: keras-preprocessing>=1.1.1 in c:\\users\\2469117b\\.conda\\envs\\ai_for_the_arts_environment\\lib\\site-packages (from tensorflow) (1.1.2)\n",
      "Collecting libclang>=13.0.0 (from tensorflow)\n",
      "  Using cached libclang-16.0.6-py2.py3-none-win_amd64.whl.metadata (5.3 kB)\n",
      "Requirement already satisfied: numpy>=1.20 in c:\\users\\2469117b\\.conda\\envs\\ai_for_the_arts_environment\\lib\\site-packages (from tensorflow) (1.26.0)\n",
      "Requirement already satisfied: opt-einsum>=2.3.2 in c:\\users\\2469117b\\.conda\\envs\\ai_for_the_arts_environment\\lib\\site-packages (from tensorflow) (3.3.0)\n",
      "Requirement already satisfied: packaging in c:\\users\\2469117b\\.conda\\envs\\ai_for_the_arts_environment\\lib\\site-packages (from tensorflow) (23.1)\n",
      "Collecting protobuf<3.20,>=3.9.2 (from tensorflow)\n",
      "  Downloading protobuf-3.19.6-cp310-cp310-win_amd64.whl.metadata (806 bytes)\n",
      "Requirement already satisfied: setuptools in c:\\users\\2469117b\\.conda\\envs\\ai_for_the_arts_environment\\lib\\site-packages (from tensorflow) (68.0.0)\n",
      "Requirement already satisfied: six>=1.12.0 in c:\\users\\2469117b\\.conda\\envs\\ai_for_the_arts_environment\\lib\\site-packages (from tensorflow) (1.16.0)\n",
      "Requirement already satisfied: termcolor>=1.1.0 in c:\\users\\2469117b\\.conda\\envs\\ai_for_the_arts_environment\\lib\\site-packages (from tensorflow) (2.3.0)\n",
      "Requirement already satisfied: typing-extensions>=3.6.6 in c:\\users\\2469117b\\.conda\\envs\\ai_for_the_arts_environment\\lib\\site-packages (from tensorflow) (4.7.1)\n",
      "Requirement already satisfied: wrapt>=1.11.0 in c:\\users\\2469117b\\.conda\\envs\\ai_for_the_arts_environment\\lib\\site-packages (from tensorflow) (1.14.1)\n",
      "Collecting tensorflow-io-gcs-filesystem>=0.23.1 (from tensorflow)\n",
      "  Downloading tensorflow_io_gcs_filesystem-0.31.0-cp310-cp310-win_amd64.whl.metadata (14 kB)\n",
      "Requirement already satisfied: grpcio<2.0,>=1.24.3 in c:\\users\\2469117b\\.conda\\envs\\ai_for_the_arts_environment\\lib\\site-packages (from tensorflow) (1.42.0)\n",
      "Requirement already satisfied: tensorboard<2.11,>=2.10 in c:\\users\\2469117b\\.conda\\envs\\ai_for_the_arts_environment\\lib\\site-packages (from tensorflow) (2.10.0)\n",
      "Requirement already satisfied: tensorflow-estimator<2.11,>=2.10.0 in c:\\users\\2469117b\\.conda\\envs\\ai_for_the_arts_environment\\lib\\site-packages (from tensorflow) (2.10.0)\n",
      "Requirement already satisfied: keras<2.11,>=2.10.0 in c:\\users\\2469117b\\.conda\\envs\\ai_for_the_arts_environment\\lib\\site-packages (from tensorflow) (2.10.0)\n",
      "Requirement already satisfied: wheel<1.0,>=0.23.0 in c:\\users\\2469117b\\.conda\\envs\\ai_for_the_arts_environment\\lib\\site-packages (from astunparse>=1.6.0->tensorflow) (0.41.2)\n",
      "Requirement already satisfied: google-auth<3,>=1.6.3 in c:\\users\\2469117b\\.conda\\envs\\ai_for_the_arts_environment\\lib\\site-packages (from tensorboard<2.11,>=2.10->tensorflow) (1.35.0)\n",
      "Requirement already satisfied: google-auth-oauthlib<0.5,>=0.4.1 in c:\\users\\2469117b\\.conda\\envs\\ai_for_the_arts_environment\\lib\\site-packages (from tensorboard<2.11,>=2.10->tensorflow) (0.4.1)\n",
      "Requirement already satisfied: markdown>=2.6.8 in c:\\users\\2469117b\\.conda\\envs\\ai_for_the_arts_environment\\lib\\site-packages (from tensorboard<2.11,>=2.10->tensorflow) (3.5.1)\n",
      "Requirement already satisfied: requests<3,>=2.21.0 in c:\\users\\2469117b\\.conda\\envs\\ai_for_the_arts_environment\\lib\\site-packages (from tensorboard<2.11,>=2.10->tensorflow) (2.31.0)\n",
      "Requirement already satisfied: tensorboard-data-server<0.7.0,>=0.6.0 in c:\\users\\2469117b\\.conda\\envs\\ai_for_the_arts_environment\\lib\\site-packages (from tensorboard<2.11,>=2.10->tensorflow) (0.6.1)\n",
      "Requirement already satisfied: tensorboard-plugin-wit>=1.6.0 in c:\\users\\2469117b\\.conda\\envs\\ai_for_the_arts_environment\\lib\\site-packages (from tensorboard<2.11,>=2.10->tensorflow) (1.8.1)\n",
      "Requirement already satisfied: werkzeug>=1.0.1 in c:\\users\\2469117b\\.conda\\envs\\ai_for_the_arts_environment\\lib\\site-packages (from tensorboard<2.11,>=2.10->tensorflow) (3.0.1)\n",
      "Requirement already satisfied: cachetools<5.0,>=2.0.0 in c:\\users\\2469117b\\.conda\\envs\\ai_for_the_arts_environment\\lib\\site-packages (from google-auth<3,>=1.6.3->tensorboard<2.11,>=2.10->tensorflow) (4.2.4)\n",
      "Requirement already satisfied: pyasn1-modules>=0.2.1 in c:\\users\\2469117b\\.conda\\envs\\ai_for_the_arts_environment\\lib\\site-packages (from google-auth<3,>=1.6.3->tensorboard<2.11,>=2.10->tensorflow) (0.3.0)\n",
      "Requirement already satisfied: rsa<5,>=3.1.4 in c:\\users\\2469117b\\.conda\\envs\\ai_for_the_arts_environment\\lib\\site-packages (from google-auth<3,>=1.6.3->tensorboard<2.11,>=2.10->tensorflow) (4.9)\n",
      "Requirement already satisfied: requests-oauthlib>=0.7.0 in c:\\users\\2469117b\\.conda\\envs\\ai_for_the_arts_environment\\lib\\site-packages (from google-auth-oauthlib<0.5,>=0.4.1->tensorboard<2.11,>=2.10->tensorflow) (1.3.1)\n",
      "Requirement already satisfied: charset-normalizer<4,>=2 in c:\\users\\2469117b\\.conda\\envs\\ai_for_the_arts_environment\\lib\\site-packages (from requests<3,>=2.21.0->tensorboard<2.11,>=2.10->tensorflow) (3.3.2)\n",
      "Requirement already satisfied: idna<4,>=2.5 in c:\\users\\2469117b\\.conda\\envs\\ai_for_the_arts_environment\\lib\\site-packages (from requests<3,>=2.21.0->tensorboard<2.11,>=2.10->tensorflow) (3.4)\n",
      "Requirement already satisfied: urllib3<3,>=1.21.1 in c:\\users\\2469117b\\.conda\\envs\\ai_for_the_arts_environment\\lib\\site-packages (from requests<3,>=2.21.0->tensorboard<2.11,>=2.10->tensorflow) (2.0.7)\n",
      "Requirement already satisfied: certifi>=2017.4.17 in c:\\users\\2469117b\\.conda\\envs\\ai_for_the_arts_environment\\lib\\site-packages (from requests<3,>=2.21.0->tensorboard<2.11,>=2.10->tensorflow) (2023.7.22)\n",
      "Requirement already satisfied: MarkupSafe>=2.1.1 in c:\\users\\2469117b\\.conda\\envs\\ai_for_the_arts_environment\\lib\\site-packages (from werkzeug>=1.0.1->tensorboard<2.11,>=2.10->tensorflow) (2.1.1)\n",
      "Requirement already satisfied: pyasn1<0.6.0,>=0.4.6 in c:\\users\\2469117b\\.conda\\envs\\ai_for_the_arts_environment\\lib\\site-packages (from pyasn1-modules>=0.2.1->google-auth<3,>=1.6.3->tensorboard<2.11,>=2.10->tensorflow) (0.5.0)\n",
      "Requirement already satisfied: oauthlib>=3.0.0 in c:\\users\\2469117b\\.conda\\envs\\ai_for_the_arts_environment\\lib\\site-packages (from requests-oauthlib>=0.7.0->google-auth-oauthlib<0.5,>=0.4.1->tensorboard<2.11,>=2.10->tensorflow) (3.2.2)\n",
      "Using cached libclang-16.0.6-py2.py3-none-win_amd64.whl (24.4 MB)\n",
      "Downloading protobuf-3.19.6-cp310-cp310-win_amd64.whl (895 kB)\n",
      "   ---------------------------------------- 0.0/895.7 kB ? eta -:--:--\n",
      "   ---------------------------------------  890.9/895.7 kB ? eta -:--:--\n",
      "   --------------------------------------- 895.7/895.7 kB 14.1 MB/s eta 0:00:00\n",
      "Downloading tensorflow_io_gcs_filesystem-0.31.0-cp310-cp310-win_amd64.whl (1.5 MB)\n",
      "   ---------------------------------------- 0.0/1.5 MB ? eta -:--:--\n",
      "   ---------------------------------------  1.5/1.5 MB 92.2 MB/s eta 0:00:01\n",
      "   ---------------------------------------- 1.5/1.5 MB 23.4 MB/s eta 0:00:00\n",
      "Installing collected packages: libclang, tensorflow-io-gcs-filesystem, protobuf\n",
      "  Attempting uninstall: protobuf\n",
      "    Found existing installation: protobuf 3.20.3\n",
      "    Uninstalling protobuf-3.20.3:\n",
      "      Successfully uninstalled protobuf-3.20.3\n",
      "Successfully installed libclang-16.0.6 protobuf-3.19.6 tensorflow-io-gcs-filesystem-0.31.0\n",
      "Note: you may need to restart the kernel to use updated packages.\n"
     ]
    }
   ],
   "source": [
    "pip install tensorflow"
   ]
  },
  {
   "cell_type": "code",
   "execution_count": 2,
   "id": "d898f1f8-84d2-4436-afd2-8a776b1c7b73",
   "metadata": {
    "tags": []
   },
   "outputs": [
    {
     "name": "stdout",
     "output_type": "stream",
     "text": [
      "2.10.0\n"
     ]
    }
   ],
   "source": [
    "import numpy as np \n",
    "import keras\n",
    "print(keras.__version__)"
   ]
  },
  {
   "cell_type": "code",
   "execution_count": 3,
   "id": "d1708977-7a3c-44ab-9da0-7d47bb43f387",
   "metadata": {
    "tags": []
   },
   "outputs": [],
   "source": [
    "from keras.applications.vgg16 import VGG16\n",
    "from keras.applications.vgg16 import decode_predictions"
   ]
  },
  {
   "cell_type": "code",
   "execution_count": 29,
   "id": "43ceb6d3-e00b-4035-a0b9-5a997473253e",
   "metadata": {
    "tags": []
   },
   "outputs": [],
   "source": [
    "image_path = 'images/Sketches/leaf.jpeg'"
   ]
  },
  {
   "cell_type": "code",
   "execution_count": 5,
   "id": "9c9974a0-d6c2-4e6d-80cb-731036dc9858",
   "metadata": {
    "tags": []
   },
   "outputs": [
    {
     "name": "stdout",
     "output_type": "stream",
     "text": [
      "Downloading data from https://storage.googleapis.com/tensorflow/keras-applications/vgg16/vgg16_weights_tf_dim_ordering_tf_kernels.h5\n",
      "553467096/553467096 [==============================] - 12s 0us/step\n"
     ]
    }
   ],
   "source": [
    "model = VGG16(weights=\"imagenet\")"
   ]
  },
  {
   "cell_type": "code",
   "execution_count": 30,
   "id": "0e1f4f6e-d675-4c6c-9d0a-b483aec0e8ed",
   "metadata": {
    "tags": []
   },
   "outputs": [],
   "source": [
    "img = keras.utils.load_img(image_path,\n",
    "target_size=(224, 224))\n",
    "image = keras.utils.img_to_array(img)\n",
    "image = np.expand_dims(image, axis=0)"
   ]
  },
  {
   "cell_type": "code",
   "execution_count": 31,
   "id": "9a249a08-6451-4790-82aa-aac80ece28cb",
   "metadata": {
    "collapsed": true,
    "tags": []
   },
   "outputs": [
    {
     "name": "stdout",
     "output_type": "stream",
     "text": [
      "1/1 [==============================] - 0s 63ms/step\n"
     ]
    },
    {
     "data": {
      "text/plain": [
       "array([[2.54602655e-05, 2.99724867e-04, 1.48783874e-04, 1.06205360e-03,\n",
       "        7.87105295e-04, 9.53175034e-03, 1.80822145e-02, 2.70706048e-04,\n",
       "        4.90733306e-04, 4.10177483e-04, 1.28654926e-03, 2.02077223e-04,\n",
       "        5.64835966e-04, 3.50651913e-03, 7.56066525e-04, 6.44147513e-04,\n",
       "        3.71216534e-04, 2.74323422e-04, 1.10103854e-03, 4.71503299e-04,\n",
       "        6.18761231e-04, 9.42082086e-04, 6.66199811e-03, 3.93363927e-03,\n",
       "        2.03670282e-03, 3.31430463e-04, 6.90314919e-04, 6.82247104e-04,\n",
       "        7.03345286e-05, 8.14809318e-05, 1.27573760e-04, 2.56309344e-04,\n",
       "        6.84801722e-04, 5.02560928e-04, 1.13512389e-03, 4.67739679e-04,\n",
       "        3.52826231e-04, 1.55286936e-04, 2.06203805e-03, 1.70082843e-03,\n",
       "        1.00073507e-02, 1.90620124e-03, 6.09181589e-04, 1.89568929e-03,\n",
       "        6.03031716e-04, 2.73954123e-04, 2.77891173e-03, 7.20595522e-03,\n",
       "        1.66472062e-04, 2.46147218e-04, 3.28014349e-03, 1.75862326e-04,\n",
       "        5.29286081e-05, 2.12650593e-05, 3.43835418e-05, 4.77690592e-05,\n",
       "        1.59897390e-05, 7.08466323e-05, 6.12901466e-04, 9.39602978e-05,\n",
       "        2.71507397e-05, 5.27466727e-06, 1.71595257e-05, 5.00760370e-06,\n",
       "        1.39987140e-04, 3.54664691e-04, 2.00400362e-04, 9.33301926e-05,\n",
       "        1.02664482e-04, 2.20865803e-03, 4.94630169e-03, 3.39515391e-04,\n",
       "        2.15096428e-04, 5.28348028e-04, 5.53503109e-04, 4.86808975e-04,\n",
       "        4.25627659e-05, 1.60405785e-03, 1.05018599e-03, 1.28906255e-03,\n",
       "        3.43727553e-03, 3.65547300e-03, 4.76123020e-03, 1.49167885e-04,\n",
       "        1.98789261e-04, 1.66563306e-03, 1.30032131e-03, 1.87538710e-04,\n",
       "        1.21551682e-04, 3.04523273e-04, 6.78331780e-05, 3.53820593e-04,\n",
       "        6.68254506e-04, 3.62535036e-04, 2.19310075e-03, 3.76909738e-05,\n",
       "        7.77756039e-04, 1.94714758e-05, 2.38772082e-05, 5.13617706e-04,\n",
       "        1.21764757e-03, 9.00213709e-05, 8.25300158e-05, 4.14958515e-04,\n",
       "        1.11380788e-04, 3.34170727e-05, 2.32640028e-04, 9.75333969e-04,\n",
       "        7.91878323e-04, 4.20049392e-03, 1.01566678e-04, 3.50508327e-03,\n",
       "        1.90944457e-03, 1.62536438e-04, 1.66381273e-04, 1.46494087e-04,\n",
       "        7.62806740e-05, 2.76141363e-04, 1.27494030e-04, 6.10979390e-04,\n",
       "        1.32053756e-04, 7.51778061e-05, 1.19278615e-04, 9.22372798e-04,\n",
       "        5.16710163e-04, 9.00147206e-05, 1.80644356e-03, 2.90157914e-04,\n",
       "        6.80996396e-04, 1.40302975e-04, 5.25600044e-05, 1.60496362e-04,\n",
       "        3.67654080e-04, 1.06741663e-03, 2.25791344e-04, 7.71216466e-04,\n",
       "        5.31625526e-04, 2.87203467e-04, 4.91522776e-04, 1.01287798e-04,\n",
       "        1.80211937e-04, 3.10200761e-04, 5.04357085e-05, 4.65013436e-04,\n",
       "        1.03817518e-04, 5.34063671e-04, 1.53884792e-03, 4.17841511e-04,\n",
       "        3.80590180e-04, 7.29761960e-05, 2.61701323e-04, 6.70331428e-05,\n",
       "        3.51532981e-05, 1.04653627e-04, 2.61815039e-05, 1.00067875e-04,\n",
       "        1.06116880e-04, 5.09063793e-05, 1.03374659e-05, 1.39401833e-04,\n",
       "        4.04345657e-04, 1.79488226e-04, 8.05986856e-05, 3.01848282e-04,\n",
       "        8.24929157e-05, 3.57599092e-05, 4.26704246e-05, 5.71524542e-05,\n",
       "        5.73265352e-05, 3.64317348e-05, 4.85831988e-04, 4.16779512e-05,\n",
       "        1.39333715e-04, 6.27665795e-05, 5.06890588e-04, 8.05418313e-05,\n",
       "        5.02685070e-05, 9.39361053e-05, 1.66435639e-04, 1.66654179e-04,\n",
       "        3.52281058e-05, 7.39226991e-04, 8.36945183e-05, 4.45684622e-04,\n",
       "        1.22630678e-04, 2.97510269e-04, 2.73761631e-04, 9.30071255e-05,\n",
       "        6.22212887e-04, 3.09272786e-04, 1.25809776e-04, 1.66389291e-04,\n",
       "        2.77332932e-04, 9.61246769e-05, 1.71192674e-04, 1.38724470e-04,\n",
       "        3.06690599e-05, 2.06123557e-04, 8.36337204e-05, 7.93312676e-04,\n",
       "        3.02087748e-04, 3.56199853e-05, 6.93566806e-04, 1.13198017e-04,\n",
       "        1.28053958e-04, 3.55852506e-04, 1.27342559e-04, 3.21428925e-05,\n",
       "        1.95761546e-04, 2.18346351e-04, 4.93958942e-05, 2.23237847e-04,\n",
       "        3.07519149e-05, 9.60500329e-05, 2.56470725e-04, 3.76152057e-05,\n",
       "        5.65756200e-05, 1.32680259e-04, 8.72598612e-05, 1.10254732e-04,\n",
       "        1.55639500e-04, 2.35142463e-04, 2.51778925e-04, 4.21483739e-04,\n",
       "        4.46354999e-04, 8.95859121e-05, 3.20951251e-04, 3.46025881e-05,\n",
       "        6.95620314e-04, 1.68634317e-04, 7.74306900e-05, 1.17067648e-04,\n",
       "        8.11818900e-05, 8.18267581e-04, 4.51396227e-05, 1.48189050e-04,\n",
       "        7.15020869e-05, 4.52232598e-05, 4.43056524e-05, 1.55973685e-04,\n",
       "        4.03357350e-04, 8.28466727e-05, 3.25479086e-05, 8.04329466e-05,\n",
       "        9.33967021e-05, 1.85167170e-04, 8.45531395e-05, 8.53457313e-05,\n",
       "        1.43610363e-04, 2.13535532e-04, 1.75122419e-04, 4.18787204e-05,\n",
       "        7.61559786e-05, 8.16547908e-05, 2.88477051e-04, 6.17472251e-05,\n",
       "        4.09317232e-04, 1.12875437e-04, 2.48989352e-04, 1.39018739e-04,\n",
       "        1.06613166e-04, 3.15232988e-04, 1.11186519e-05, 3.89209745e-04,\n",
       "        4.66781144e-04, 1.92355437e-04, 4.45485144e-04, 4.42058605e-04,\n",
       "        3.91744747e-04, 1.41317910e-03, 8.24178162e-04, 1.74025772e-04,\n",
       "        2.58343155e-03, 1.04039391e-04, 5.41621237e-04, 1.54255278e-04,\n",
       "        7.70086845e-05, 4.05253639e-04, 1.73790264e-04, 5.49992407e-03,\n",
       "        9.68298235e-04, 6.93597889e-04, 3.90736939e-04, 9.64832288e-05,\n",
       "        3.62965875e-05, 1.46493534e-04, 1.25710107e-03, 7.91720580e-03,\n",
       "        1.22112586e-04, 2.01080064e-03, 6.78335928e-05, 7.40507603e-05,\n",
       "        7.88752004e-05, 9.85635488e-05, 6.84972852e-04, 2.35869945e-03,\n",
       "        6.47821696e-04, 1.90544888e-04, 2.77947227e-04, 6.88358487e-05,\n",
       "        6.39972452e-04, 8.03869800e-04, 4.25542146e-03, 1.99910089e-01,\n",
       "        1.31411536e-03, 2.40964713e-04, 2.09391190e-04, 8.23664013e-03,\n",
       "        7.95155473e-04, 5.71675308e-04, 1.00394497e-02, 1.82235311e-03,\n",
       "        7.14888098e-03, 4.79455665e-03, 1.60077063e-03, 5.20364672e-04,\n",
       "        2.63613445e-04, 3.65048239e-04, 1.14462543e-02, 6.62078790e-04,\n",
       "        1.99124246e-04, 1.03128992e-03, 3.18556232e-03, 1.78683037e-03,\n",
       "        1.72723294e-03, 4.51381085e-03, 1.05527253e-03, 2.85733666e-04,\n",
       "        5.14898740e-04, 1.33095053e-03, 1.08295481e-03, 3.42666125e-03,\n",
       "        1.67835169e-04, 1.69137958e-04, 3.30650364e-04, 2.10483442e-04,\n",
       "        5.79794752e-04, 2.46395241e-03, 3.26988302e-05, 7.27752740e-06,\n",
       "        1.34294256e-04, 1.12565199e-03, 2.19743745e-03, 7.00693490e-05,\n",
       "        5.28815835e-05, 1.57389833e-04, 1.77946102e-04, 3.26741766e-03,\n",
       "        2.06636279e-04, 3.78325931e-04, 1.20996945e-02, 2.26921311e-05,\n",
       "        1.79921815e-04, 1.65335587e-04, 1.84356715e-04, 8.67386043e-05,\n",
       "        3.65874078e-03, 2.58493866e-03, 2.50665471e-04, 1.35862312e-04,\n",
       "        5.19230904e-04, 1.87136277e-04, 4.90013335e-04, 1.81807496e-04,\n",
       "        2.05100092e-04, 3.14117497e-05, 2.11086328e-04, 1.08876891e-04,\n",
       "        6.80822704e-05, 3.25452711e-05, 7.12978799e-05, 6.00271778e-05,\n",
       "        2.97128776e-04, 8.83361208e-05, 1.03224869e-04, 6.74649855e-05,\n",
       "        1.18695294e-04, 1.33960522e-04, 1.70613348e-04, 3.55212542e-04,\n",
       "        1.65604957e-04, 8.87274509e-05, 8.17270484e-05, 1.31846318e-04,\n",
       "        1.42085890e-04, 4.02312980e-05, 8.49405551e-05, 5.11726757e-05,\n",
       "        4.92915242e-05, 8.46924304e-05, 8.38112464e-05, 2.00674418e-04,\n",
       "        8.50396464e-04, 7.67906167e-05, 1.62457713e-04, 1.88333317e-04,\n",
       "        1.53179059e-03, 1.35262497e-04, 4.42598757e-05, 2.49051314e-04,\n",
       "        1.43565034e-04, 2.07382709e-05, 1.03096478e-04, 9.54108371e-04,\n",
       "        6.44815873e-06, 8.12786049e-04, 1.52489474e-05, 2.53831713e-05,\n",
       "        4.67108912e-05, 2.26912671e-04, 4.40170770e-05, 9.30402137e-04,\n",
       "        1.07264181e-03, 5.72810182e-04, 2.22801929e-04, 1.55222602e-04,\n",
       "        1.15556159e-05, 5.49820106e-05, 8.48862910e-05, 1.06155137e-04,\n",
       "        5.66645504e-05, 2.84014241e-04, 1.85098652e-05, 2.60234065e-05,\n",
       "        3.37174715e-05, 8.90769763e-04, 1.93776024e-04, 4.64759389e-04,\n",
       "        6.67383836e-04, 5.10929494e-05, 5.42417501e-06, 1.85985249e-04,\n",
       "        3.70724971e-04, 1.06376270e-03, 2.27364525e-03, 4.72419451e-05,\n",
       "        2.03532531e-04, 4.28033149e-04, 3.74421623e-04, 1.09129971e-04,\n",
       "        1.17341719e-04, 4.50282678e-05, 1.66068421e-04, 9.89811728e-04,\n",
       "        1.49965796e-04, 3.60149512e-04, 2.27631605e-03, 4.19374905e-04,\n",
       "        1.57255551e-03, 6.57875935e-05, 4.87608122e-05, 4.29599197e-04,\n",
       "        4.39760013e-04, 1.31276638e-05, 2.69263019e-05, 7.97775210e-05,\n",
       "        5.66226523e-03, 7.95333763e-04, 1.71484356e-03, 4.93284781e-03,\n",
       "        1.77825917e-04, 9.07183276e-05, 1.11379577e-02, 1.83450943e-03,\n",
       "        6.49983267e-05, 2.61405250e-04, 5.21106313e-06, 1.32763662e-05,\n",
       "        7.31874490e-04, 1.17188797e-03, 1.36104494e-03, 4.57548536e-04,\n",
       "        2.03004965e-04, 1.09346089e-04, 2.40941736e-04, 1.51076575e-03,\n",
       "        4.44866128e-05, 6.37509365e-05, 1.44234873e-04, 4.95535387e-05,\n",
       "        1.01915532e-04, 4.17290576e-04, 2.26431133e-04, 2.02390147e-04,\n",
       "        2.39442725e-05, 8.83514076e-05, 3.39953112e-05, 3.39885009e-04,\n",
       "        1.15547294e-03, 1.21970717e-02, 3.62555256e-05, 2.95104808e-04,\n",
       "        3.46169472e-05, 1.41895698e-05, 3.54397576e-03, 1.41165492e-05,\n",
       "        6.20841602e-05, 2.88527808e-04, 4.58988579e-05, 2.78659601e-04,\n",
       "        4.56954149e-04, 6.44250424e-04, 1.26666273e-04, 1.71707070e-05,\n",
       "        5.37784181e-05, 3.08708637e-04, 1.96867069e-04, 7.38011804e-05,\n",
       "        4.42622171e-04, 8.99963379e-06, 1.49836997e-05, 4.47128477e-05,\n",
       "        1.41390425e-04, 3.96295982e-05, 2.40265053e-05, 1.89725746e-04,\n",
       "        2.16920977e-04, 3.28279566e-04, 8.03378425e-05, 2.26799075e-05,\n",
       "        8.74718171e-05, 3.61523234e-05, 3.49467919e-05, 4.33807640e-04,\n",
       "        6.10571951e-05, 1.22402547e-04, 5.42310227e-05, 3.36012381e-05,\n",
       "        3.84837294e-05, 1.96159599e-04, 1.22154510e-04, 1.83853590e-05,\n",
       "        9.07779977e-05, 1.09386304e-03, 4.61629934e-05, 1.64084136e-04,\n",
       "        2.30217556e-05, 1.10645464e-03, 1.49905181e-03, 1.93658809e-04,\n",
       "        1.21816032e-04, 9.35916105e-05, 2.68471722e-05, 3.48890499e-05,\n",
       "        4.76029818e-04, 2.75207509e-04, 2.73249352e-05, 4.02968071e-05,\n",
       "        1.26685063e-05, 1.11254565e-02, 1.24062608e-05, 1.09154324e-03,\n",
       "        9.29817106e-05, 3.70298476e-05, 4.56252426e-04, 3.87954387e-05,\n",
       "        2.55784485e-03, 3.37802019e-04, 7.31742912e-05, 1.89797312e-04,\n",
       "        9.11889401e-06, 2.51416714e-05, 3.31615272e-04, 3.20416642e-04,\n",
       "        2.89426334e-05, 6.99294178e-05, 1.01515259e-04, 2.24731280e-04,\n",
       "        2.97506020e-04, 8.79288564e-05, 8.11870676e-04, 1.37154375e-05,\n",
       "        9.05504276e-05, 1.55862745e-05, 1.13364658e-04, 5.88946168e-05,\n",
       "        5.99441701e-05, 4.91864572e-04, 4.89392201e-04, 6.00860585e-05,\n",
       "        3.99205368e-04, 7.04642080e-05, 9.54432289e-06, 4.46370104e-05,\n",
       "        4.92555788e-03, 9.73567367e-05, 3.88297689e-04, 7.11139219e-05,\n",
       "        6.83253384e-05, 2.96080601e-04, 9.71433747e-06, 7.39625015e-04,\n",
       "        1.94552355e-04, 1.12392278e-04, 6.04915185e-05, 4.21805780e-05,\n",
       "        4.58172697e-04, 8.06677053e-05, 1.47041637e-05, 1.05012592e-03,\n",
       "        3.56033281e-03, 3.15527129e-03, 1.71330357e-05, 3.48419999e-05,\n",
       "        1.49759362e-04, 4.79142414e-04, 4.02734498e-04, 2.28668359e-05,\n",
       "        4.98882582e-05, 6.65057814e-05, 1.75515248e-04, 4.65074461e-03,\n",
       "        7.01362296e-05, 2.09587990e-04, 5.28590972e-05, 1.39872573e-05,\n",
       "        8.94494937e-04, 1.35628899e-04, 4.68526065e-04, 1.50703383e-03,\n",
       "        4.12945374e-04, 2.13710242e-04, 8.98962433e-04, 2.77673156e-04,\n",
       "        2.41504877e-05, 8.72491219e-05, 7.13784611e-05, 3.57518620e-05,\n",
       "        1.48192150e-04, 1.33447873e-04, 5.57052408e-05, 3.87172659e-05,\n",
       "        5.28705888e-04, 2.01302348e-03, 1.04935061e-04, 1.49252417e-04,\n",
       "        1.09315175e-03, 8.65727488e-04, 1.24078520e-04, 2.10330152e-04,\n",
       "        5.36130916e-04, 3.64001316e-05, 4.64220539e-05, 8.86972921e-05,\n",
       "        1.38941483e-04, 1.06551975e-03, 5.65836614e-04, 5.35646453e-04,\n",
       "        5.35744994e-06, 8.33548664e-04, 2.76105828e-04, 9.89117143e-06,\n",
       "        2.30528763e-04, 2.94187514e-04, 3.38848367e-05, 1.08758330e-04,\n",
       "        7.38601200e-04, 1.54229242e-03, 2.98084226e-03, 1.98816269e-04,\n",
       "        4.44403922e-05, 1.31818842e-05, 8.34381848e-04, 9.16826684e-05,\n",
       "        5.88694646e-04, 1.84410783e-05, 9.26268112e-05, 3.72732698e-04,\n",
       "        1.66156344e-04, 4.35350608e-04, 3.01327418e-05, 6.31583753e-05,\n",
       "        2.09548720e-03, 4.49218758e-04, 7.40588468e-04, 7.51826428e-06,\n",
       "        6.92079775e-05, 7.68134720e-04, 1.68939441e-05, 3.08067212e-03,\n",
       "        1.56229813e-04, 1.06152103e-04, 2.73085112e-04, 2.00744558e-04,\n",
       "        4.80574345e-05, 1.20085904e-04, 4.55671689e-05, 9.78554272e-06,\n",
       "        2.88533978e-04, 1.31044231e-04, 3.78942132e-05, 7.70566985e-04,\n",
       "        2.35170504e-04, 3.47211288e-04, 1.79347233e-04, 3.52464383e-04,\n",
       "        4.09573782e-04, 8.75301921e-05, 1.18502736e-04, 4.30421846e-04,\n",
       "        1.37674846e-02, 2.57231691e-03, 7.11816301e-06, 6.54027215e-04,\n",
       "        9.44038678e-04, 2.96420185e-05, 3.24161920e-05, 1.70644998e-05,\n",
       "        5.13195919e-05, 1.84032629e-04, 1.85351085e-03, 2.29693644e-04,\n",
       "        2.08765618e-03, 6.27065674e-05, 3.95570794e-04, 4.26480314e-04,\n",
       "        2.61872467e-02, 1.52272078e-05, 4.64857789e-04, 3.88236404e-05,\n",
       "        4.56002090e-05, 6.74991927e-04, 2.49220739e-05, 3.06456874e-04,\n",
       "        3.83301121e-05, 3.43892141e-04, 1.26466883e-04, 1.06502492e-04,\n",
       "        2.69250828e-03, 3.84473751e-05, 4.04544501e-03, 4.25053258e-05,\n",
       "        6.70349982e-05, 2.16046860e-03, 1.04733354e-05, 1.23611768e-03,\n",
       "        1.69326067e-05, 6.70361478e-05, 6.25349069e-03, 2.54650276e-05,\n",
       "        1.74744375e-04, 6.30087525e-05, 2.70460761e-04, 2.08218233e-04,\n",
       "        2.48051743e-04, 5.94712219e-05, 2.39924004e-04, 3.51512208e-05,\n",
       "        3.52505897e-03, 9.51552182e-04, 1.16133859e-04, 3.72715112e-05,\n",
       "        4.15696821e-04, 5.00230817e-04, 1.21152589e-04, 8.76075210e-05,\n",
       "        1.35306371e-04, 9.81041667e-05, 2.85149901e-04, 4.16254370e-05,\n",
       "        6.18746708e-05, 7.64728175e-05, 1.49793423e-05, 8.84365072e-05,\n",
       "        2.41020112e-03, 6.61511731e-05, 1.69918767e-05, 1.64790137e-03,\n",
       "        5.17347762e-05, 1.96036091e-03, 6.92145477e-05, 4.26796614e-05,\n",
       "        3.89173918e-04, 4.09958084e-05, 3.75654490e-04, 1.98714377e-04,\n",
       "        2.78530842e-05, 1.09383422e-04, 1.24657323e-04, 6.89578956e-05,\n",
       "        6.09161507e-05, 3.59249752e-05, 3.55763943e-04, 3.91013746e-04,\n",
       "        4.64158540e-04, 2.15579967e-05, 1.35100447e-04, 5.77919163e-05,\n",
       "        3.73151124e-05, 1.80876479e-04, 2.51050864e-04, 2.14779939e-04,\n",
       "        1.03905508e-02, 1.18435966e-03, 4.20084019e-04, 6.36905991e-03,\n",
       "        6.58864214e-04, 1.10684043e-04, 7.81374401e-05, 2.04264525e-05,\n",
       "        2.60155025e-06, 5.08991943e-05, 2.18625134e-03, 3.29316035e-03,\n",
       "        9.68306485e-05, 1.87325022e-05, 2.97103135e-04, 2.14588013e-04,\n",
       "        6.73222094e-05, 5.23831550e-05, 1.18928940e-04, 2.44236799e-05,\n",
       "        8.26025847e-04, 7.51637155e-04, 7.00496021e-05, 1.05791714e-03,\n",
       "        9.65253785e-05, 1.34281390e-05, 1.39784371e-03, 1.69748873e-05,\n",
       "        1.28792773e-04, 1.48394180e-03, 4.84399425e-05, 1.32646033e-04,\n",
       "        1.43262651e-03, 4.21652012e-03, 2.11276019e-05, 1.56411297e-05,\n",
       "        4.19832300e-04, 9.86916930e-05, 3.20017658e-04, 8.16475076e-05,\n",
       "        1.15061201e-04, 6.45869295e-04, 2.29671077e-05, 6.31712435e-04,\n",
       "        6.25789340e-04, 2.33757333e-03, 3.69225054e-05, 1.13212227e-04,\n",
       "        9.08076204e-03, 8.94849436e-05, 3.70387832e-04, 4.91350016e-04,\n",
       "        2.95366393e-04, 1.03480846e-03, 7.83420401e-04, 8.37505271e-04,\n",
       "        1.87157246e-04, 3.34376033e-04, 7.55680521e-05, 2.71570578e-04,\n",
       "        6.28923241e-04, 4.79931507e-04, 1.70104740e-05, 1.67918741e-04,\n",
       "        3.65865344e-05, 3.08046911e-05, 4.27444116e-04, 3.99991404e-04,\n",
       "        8.72044075e-06, 4.45375335e-04, 9.67632586e-05, 2.15274249e-05,\n",
       "        1.40569755e-04, 1.07251590e-05, 3.45562381e-04, 1.13073675e-05,\n",
       "        5.52576676e-04, 2.44241455e-05, 6.56416058e-04, 4.13657217e-05,\n",
       "        3.87627457e-04, 2.66144780e-05, 8.95846752e-05, 3.64930420e-05,\n",
       "        9.64550782e-05, 1.18058697e-05, 4.04972561e-05, 1.37108995e-03,\n",
       "        1.20068275e-04, 1.97947120e-05, 2.62629648e-04, 2.77726399e-03,\n",
       "        1.44452017e-04, 9.85665480e-04, 1.97238587e-05, 6.10116149e-05,\n",
       "        4.57162940e-04, 1.10324574e-04, 3.77402284e-06, 3.78015771e-04,\n",
       "        3.86353990e-04, 2.69731943e-04, 2.15123200e-05, 1.53003784e-03,\n",
       "        3.60838661e-04, 1.16149917e-04, 2.22888018e-04, 1.14304523e-04,\n",
       "        7.79586917e-05, 3.88612025e-05, 1.41372439e-03, 5.81812856e-05,\n",
       "        7.41498719e-04, 3.17382837e-05, 1.83525844e-05, 8.25034978e-04,\n",
       "        3.04114772e-04, 3.39931867e-04, 3.27414746e-04, 2.00868864e-03,\n",
       "        1.13290153e-03, 2.15220056e-03, 2.19467202e-05, 1.53702626e-04,\n",
       "        3.71315866e-04, 3.57779863e-05, 1.41329103e-04, 5.32362203e-04,\n",
       "        6.55847834e-04, 3.88719514e-03, 4.42652992e-04, 2.98874133e-04,\n",
       "        4.14905313e-04, 2.27885721e-05, 3.00913712e-06, 1.90518549e-04,\n",
       "        2.60101806e-04, 7.67839199e-04, 1.31488259e-05, 3.01351829e-05,\n",
       "        9.84709459e-06, 2.08462607e-05, 1.03348048e-05, 1.84749821e-04,\n",
       "        8.56505241e-04, 2.08051689e-03, 1.82842341e-04, 1.43590092e-04,\n",
       "        8.06041469e-04, 6.36222394e-05, 1.45848593e-04, 7.82766903e-04,\n",
       "        4.74200875e-04, 2.33869050e-05, 7.84707227e-05, 1.93665735e-03,\n",
       "        2.63357622e-04, 7.30163010e-04, 2.94981699e-04, 4.69530700e-04,\n",
       "        2.00362236e-04, 1.01117657e-04, 1.57108632e-04, 9.77681266e-05,\n",
       "        9.35668504e-05, 1.26931773e-04, 2.38271212e-04, 4.03666163e-05,\n",
       "        8.20950154e-05, 2.51318677e-04, 3.08088056e-05, 1.32106024e-05,\n",
       "        2.02267511e-05, 5.98016559e-05, 2.52490077e-04, 5.99538635e-06,\n",
       "        1.87426078e-04, 4.38722855e-05, 2.68797353e-02, 4.56302689e-04,\n",
       "        4.42324718e-03, 1.28850518e-02, 8.05689051e-05, 3.42782168e-03,\n",
       "        1.51682855e-03, 4.35539550e-04, 4.09305142e-03, 2.05004564e-03,\n",
       "        3.16427834e-03, 1.05863774e-05, 3.36955010e-04, 2.46434240e-03,\n",
       "        6.27735816e-03, 1.92188402e-03, 4.56246125e-05, 1.10336616e-04,\n",
       "        6.57259021e-03, 1.15325144e-02, 4.51700675e-04, 2.02112980e-02,\n",
       "        2.74702470e-04, 5.51619509e-04, 8.58733139e-04, 1.85224030e-03,\n",
       "        1.41771603e-02, 6.11697091e-04, 2.66571180e-04, 8.02414841e-04]],\n",
       "      dtype=float32)"
      ]
     },
     "execution_count": 31,
     "metadata": {},
     "output_type": "execute_result"
    }
   ],
   "source": [
    "model.predict(image)"
   ]
  },
  {
   "cell_type": "code",
   "execution_count": 32,
   "id": "f3d55d5d-dca7-4942-be0e-fa1bc1d26d0c",
   "metadata": {
    "tags": []
   },
   "outputs": [
    {
     "name": "stdout",
     "output_type": "stream",
     "text": [
      "1/1 [==============================] - 0s 65ms/step\n",
      "The top 5 predictions for the image were:\n",
      "long-horned_beetle: 0.200\n",
      "alp: 0.027\n",
      "picket_fence: 0.026\n",
      "coral_fungus: 0.020\n",
      "stingray: 0.018\n"
     ]
    }
   ],
   "source": [
    "preds = model.predict(image)\n",
    "\n",
    "predictions = decode_predictions(preds, top=5)[0]\n",
    "print('The top 5 predictions for the image were:')\n",
    "for code, name, score in predictions:\n",
    "    print(f\"{name}: {score:.3f}\")"
   ]
  },
  {
   "cell_type": "code",
   "execution_count": null,
   "id": "bfaf8824-2fa5-470b-9f46-345117f7d316",
   "metadata": {},
   "outputs": [],
   "source": []
  }
 ],
 "metadata": {
  "kernelspec": {
   "display_name": "Python 3 (ipykernel)",
   "language": "python",
   "name": "python3"
  },
  "language_info": {
   "codemirror_mode": {
    "name": "ipython",
    "version": 3
   },
   "file_extension": ".py",
   "mimetype": "text/x-python",
   "name": "python",
   "nbconvert_exporter": "python",
   "pygments_lexer": "ipython3",
   "version": "3.10.13"
  }
 },
 "nbformat": 4,
 "nbformat_minor": 5
}
